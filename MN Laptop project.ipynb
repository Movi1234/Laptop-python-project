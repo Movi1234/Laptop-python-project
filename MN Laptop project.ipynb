{
 "cells": [
  {
   "cell_type": "markdown",
   "id": "b5bd31be-af6f-4035-b1de-047d8da7f9da",
   "metadata": {},
   "source": [
    "1. Data Cleaning and Preprocessing: "
   ]
  },
  {
   "cell_type": "markdown",
   "id": "fbf07db3-867a-4982-8268-f900f8123ec4",
   "metadata": {},
   "source": [
    "IMPORT LIBRARY"
   ]
  },
  {
   "cell_type": "code",
   "execution_count": 1,
   "id": "e329a18f-e5ba-48cc-83bb-8b8b20793da2",
   "metadata": {},
   "outputs": [],
   "source": [
    "import pandas as pd\n",
    "MN = pd.read_csv(\"laptopdata.csv\")"
   ]
  },
  {
   "cell_type": "markdown",
   "id": "f0c849f6-60ef-4303-b196-6799d220c629",
   "metadata": {},
   "source": [
    "DATA LOADING"
   ]
  },
  {
   "cell_type": "code",
   "execution_count": 2,
   "id": "25504479-d3de-46f1-9a5d-e35f55ebcf65",
   "metadata": {},
   "outputs": [
    {
     "data": {
      "text/html": [
       "<div>\n",
       "<style scoped>\n",
       "    .dataframe tbody tr th:only-of-type {\n",
       "        vertical-align: middle;\n",
       "    }\n",
       "\n",
       "    .dataframe tbody tr th {\n",
       "        vertical-align: top;\n",
       "    }\n",
       "\n",
       "    .dataframe thead th {\n",
       "        text-align: right;\n",
       "    }\n",
       "</style>\n",
       "<table border=\"1\" class=\"dataframe\">\n",
       "  <thead>\n",
       "    <tr style=\"text-align: right;\">\n",
       "      <th></th>\n",
       "      <th>Unnamed: 0</th>\n",
       "      <th>Company</th>\n",
       "      <th>TypeName</th>\n",
       "      <th>Inches</th>\n",
       "      <th>ScreenResolution</th>\n",
       "      <th>Cpu</th>\n",
       "      <th>Ram</th>\n",
       "      <th>Memory</th>\n",
       "      <th>Gpu</th>\n",
       "      <th>OpSys</th>\n",
       "      <th>Weight</th>\n",
       "      <th>Price</th>\n",
       "    </tr>\n",
       "  </thead>\n",
       "  <tbody>\n",
       "    <tr>\n",
       "      <th>0</th>\n",
       "      <td>0.0</td>\n",
       "      <td>Apple</td>\n",
       "      <td>Ultrabook</td>\n",
       "      <td>13.3</td>\n",
       "      <td>IPS Panel Retina Display 2560x1600</td>\n",
       "      <td>Intel Core i5 2.3GHz</td>\n",
       "      <td>8GB</td>\n",
       "      <td>128GB SSD</td>\n",
       "      <td>Intel Iris Plus Graphics 640</td>\n",
       "      <td>macOS</td>\n",
       "      <td>1.37kg</td>\n",
       "      <td>71378.6832</td>\n",
       "    </tr>\n",
       "    <tr>\n",
       "      <th>1</th>\n",
       "      <td>1.0</td>\n",
       "      <td>Apple</td>\n",
       "      <td>Ultrabook</td>\n",
       "      <td>13.3</td>\n",
       "      <td>1440x900</td>\n",
       "      <td>Intel Core i5 1.8GHz</td>\n",
       "      <td>8GB</td>\n",
       "      <td>128GB Flash Storage</td>\n",
       "      <td>Intel HD Graphics 6000</td>\n",
       "      <td>macOS</td>\n",
       "      <td>1.34kg</td>\n",
       "      <td>47895.5232</td>\n",
       "    </tr>\n",
       "    <tr>\n",
       "      <th>2</th>\n",
       "      <td>2.0</td>\n",
       "      <td>HP</td>\n",
       "      <td>Notebook</td>\n",
       "      <td>15.6</td>\n",
       "      <td>Full HD 1920x1080</td>\n",
       "      <td>Intel Core i5 7200U 2.5GHz</td>\n",
       "      <td>8GB</td>\n",
       "      <td>256GB SSD</td>\n",
       "      <td>Intel HD Graphics 620</td>\n",
       "      <td>No OS</td>\n",
       "      <td>1.86kg</td>\n",
       "      <td>30636.0000</td>\n",
       "    </tr>\n",
       "    <tr>\n",
       "      <th>3</th>\n",
       "      <td>3.0</td>\n",
       "      <td>Apple</td>\n",
       "      <td>Ultrabook</td>\n",
       "      <td>15.4</td>\n",
       "      <td>IPS Panel Retina Display 2880x1800</td>\n",
       "      <td>Intel Core i7 2.7GHz</td>\n",
       "      <td>16GB</td>\n",
       "      <td>512GB SSD</td>\n",
       "      <td>AMD Radeon Pro 455</td>\n",
       "      <td>macOS</td>\n",
       "      <td>1.83kg</td>\n",
       "      <td>135195.3360</td>\n",
       "    </tr>\n",
       "    <tr>\n",
       "      <th>4</th>\n",
       "      <td>4.0</td>\n",
       "      <td>Apple</td>\n",
       "      <td>Ultrabook</td>\n",
       "      <td>13.3</td>\n",
       "      <td>IPS Panel Retina Display 2560x1600</td>\n",
       "      <td>Intel Core i5 3.1GHz</td>\n",
       "      <td>8GB</td>\n",
       "      <td>256GB SSD</td>\n",
       "      <td>Intel Iris Plus Graphics 650</td>\n",
       "      <td>macOS</td>\n",
       "      <td>1.37kg</td>\n",
       "      <td>96095.8080</td>\n",
       "    </tr>\n",
       "    <tr>\n",
       "      <th>...</th>\n",
       "      <td>...</td>\n",
       "      <td>...</td>\n",
       "      <td>...</td>\n",
       "      <td>...</td>\n",
       "      <td>...</td>\n",
       "      <td>...</td>\n",
       "      <td>...</td>\n",
       "      <td>...</td>\n",
       "      <td>...</td>\n",
       "      <td>...</td>\n",
       "      <td>...</td>\n",
       "      <td>...</td>\n",
       "    </tr>\n",
       "    <tr>\n",
       "      <th>1298</th>\n",
       "      <td>1298.0</td>\n",
       "      <td>Lenovo</td>\n",
       "      <td>2 in 1 Convertible</td>\n",
       "      <td>14</td>\n",
       "      <td>IPS Panel Full HD / Touchscreen 1920x1080</td>\n",
       "      <td>Intel Core i7 6500U 2.5GHz</td>\n",
       "      <td>4GB</td>\n",
       "      <td>128GB SSD</td>\n",
       "      <td>Intel HD Graphics 520</td>\n",
       "      <td>Windows 10</td>\n",
       "      <td>1.8kg</td>\n",
       "      <td>33992.6400</td>\n",
       "    </tr>\n",
       "    <tr>\n",
       "      <th>1299</th>\n",
       "      <td>1299.0</td>\n",
       "      <td>Lenovo</td>\n",
       "      <td>2 in 1 Convertible</td>\n",
       "      <td>13.3</td>\n",
       "      <td>IPS Panel Quad HD+ / Touchscreen 3200x1800</td>\n",
       "      <td>Intel Core i7 6500U 2.5GHz</td>\n",
       "      <td>16GB</td>\n",
       "      <td>512GB SSD</td>\n",
       "      <td>Intel HD Graphics 520</td>\n",
       "      <td>Windows 10</td>\n",
       "      <td>1.3kg</td>\n",
       "      <td>79866.7200</td>\n",
       "    </tr>\n",
       "    <tr>\n",
       "      <th>1300</th>\n",
       "      <td>1300.0</td>\n",
       "      <td>Lenovo</td>\n",
       "      <td>Notebook</td>\n",
       "      <td>65.4</td>\n",
       "      <td>1366x768</td>\n",
       "      <td>Intel Celeron Dual Core N3050 1.6GHz</td>\n",
       "      <td>2GB</td>\n",
       "      <td>64GB Flash Storage</td>\n",
       "      <td>Intel HD Graphics</td>\n",
       "      <td>Windows 10</td>\n",
       "      <td>1.5kg</td>\n",
       "      <td>12201.1200</td>\n",
       "    </tr>\n",
       "    <tr>\n",
       "      <th>1301</th>\n",
       "      <td>1301.0</td>\n",
       "      <td>HP</td>\n",
       "      <td>Notebook</td>\n",
       "      <td>15.6</td>\n",
       "      <td>1366x768</td>\n",
       "      <td>Intel Core i7 6500U 2.5GHz</td>\n",
       "      <td>6GB</td>\n",
       "      <td>1TB HDD</td>\n",
       "      <td>AMD Radeon R5 M330</td>\n",
       "      <td>Windows 10</td>\n",
       "      <td>2.19kg</td>\n",
       "      <td>40705.9200</td>\n",
       "    </tr>\n",
       "    <tr>\n",
       "      <th>1302</th>\n",
       "      <td>1302.0</td>\n",
       "      <td>Asus</td>\n",
       "      <td>Notebook</td>\n",
       "      <td>15.6</td>\n",
       "      <td>1366x768</td>\n",
       "      <td>Intel Celeron Dual Core N3050 1.6GHz</td>\n",
       "      <td>4GB</td>\n",
       "      <td>500GB HDD</td>\n",
       "      <td>Intel HD Graphics</td>\n",
       "      <td>Windows 10</td>\n",
       "      <td>2.2kg</td>\n",
       "      <td>19660.3200</td>\n",
       "    </tr>\n",
       "  </tbody>\n",
       "</table>\n",
       "<p>1303 rows × 12 columns</p>\n",
       "</div>"
      ],
      "text/plain": [
       "      Unnamed: 0 Company            TypeName Inches  \\\n",
       "0            0.0   Apple           Ultrabook   13.3   \n",
       "1            1.0   Apple           Ultrabook   13.3   \n",
       "2            2.0      HP            Notebook   15.6   \n",
       "3            3.0   Apple           Ultrabook   15.4   \n",
       "4            4.0   Apple           Ultrabook   13.3   \n",
       "...          ...     ...                 ...    ...   \n",
       "1298      1298.0  Lenovo  2 in 1 Convertible     14   \n",
       "1299      1299.0  Lenovo  2 in 1 Convertible   13.3   \n",
       "1300      1300.0  Lenovo            Notebook   65.4   \n",
       "1301      1301.0      HP            Notebook   15.6   \n",
       "1302      1302.0    Asus            Notebook   15.6   \n",
       "\n",
       "                                ScreenResolution  \\\n",
       "0             IPS Panel Retina Display 2560x1600   \n",
       "1                                       1440x900   \n",
       "2                              Full HD 1920x1080   \n",
       "3             IPS Panel Retina Display 2880x1800   \n",
       "4             IPS Panel Retina Display 2560x1600   \n",
       "...                                          ...   \n",
       "1298   IPS Panel Full HD / Touchscreen 1920x1080   \n",
       "1299  IPS Panel Quad HD+ / Touchscreen 3200x1800   \n",
       "1300                                    1366x768   \n",
       "1301                                    1366x768   \n",
       "1302                                    1366x768   \n",
       "\n",
       "                                       Cpu   Ram               Memory  \\\n",
       "0                     Intel Core i5 2.3GHz   8GB            128GB SSD   \n",
       "1                     Intel Core i5 1.8GHz   8GB  128GB Flash Storage   \n",
       "2               Intel Core i5 7200U 2.5GHz   8GB            256GB SSD   \n",
       "3                     Intel Core i7 2.7GHz  16GB            512GB SSD   \n",
       "4                     Intel Core i5 3.1GHz   8GB            256GB SSD   \n",
       "...                                    ...   ...                  ...   \n",
       "1298            Intel Core i7 6500U 2.5GHz   4GB            128GB SSD   \n",
       "1299            Intel Core i7 6500U 2.5GHz  16GB            512GB SSD   \n",
       "1300  Intel Celeron Dual Core N3050 1.6GHz   2GB   64GB Flash Storage   \n",
       "1301            Intel Core i7 6500U 2.5GHz   6GB              1TB HDD   \n",
       "1302  Intel Celeron Dual Core N3050 1.6GHz   4GB            500GB HDD   \n",
       "\n",
       "                               Gpu       OpSys  Weight        Price  \n",
       "0     Intel Iris Plus Graphics 640       macOS  1.37kg   71378.6832  \n",
       "1           Intel HD Graphics 6000       macOS  1.34kg   47895.5232  \n",
       "2            Intel HD Graphics 620       No OS  1.86kg   30636.0000  \n",
       "3               AMD Radeon Pro 455       macOS  1.83kg  135195.3360  \n",
       "4     Intel Iris Plus Graphics 650       macOS  1.37kg   96095.8080  \n",
       "...                            ...         ...     ...          ...  \n",
       "1298         Intel HD Graphics 520  Windows 10   1.8kg   33992.6400  \n",
       "1299         Intel HD Graphics 520  Windows 10   1.3kg   79866.7200  \n",
       "1300             Intel HD Graphics  Windows 10   1.5kg   12201.1200  \n",
       "1301            AMD Radeon R5 M330  Windows 10  2.19kg   40705.9200  \n",
       "1302             Intel HD Graphics  Windows 10   2.2kg   19660.3200  \n",
       "\n",
       "[1303 rows x 12 columns]"
      ]
     },
     "execution_count": 2,
     "metadata": {},
     "output_type": "execute_result"
    }
   ],
   "source": [
    "MN"
   ]
  },
  {
   "cell_type": "markdown",
   "id": "1f459a4b-27f1-4ad4-8fb6-5e459eb55b98",
   "metadata": {},
   "source": [
    "DATA DESCRIPTION"
   ]
  },
  {
   "cell_type": "code",
   "execution_count": 3,
   "id": "986b32e2-958d-400b-8784-32301ef4cae4",
   "metadata": {},
   "outputs": [
    {
     "data": {
      "text/html": [
       "<div>\n",
       "<style scoped>\n",
       "    .dataframe tbody tr th:only-of-type {\n",
       "        vertical-align: middle;\n",
       "    }\n",
       "\n",
       "    .dataframe tbody tr th {\n",
       "        vertical-align: top;\n",
       "    }\n",
       "\n",
       "    .dataframe thead th {\n",
       "        text-align: right;\n",
       "    }\n",
       "</style>\n",
       "<table border=\"1\" class=\"dataframe\">\n",
       "  <thead>\n",
       "    <tr style=\"text-align: right;\">\n",
       "      <th></th>\n",
       "      <th>Unnamed: 0</th>\n",
       "      <th>Company</th>\n",
       "      <th>TypeName</th>\n",
       "      <th>Inches</th>\n",
       "      <th>ScreenResolution</th>\n",
       "      <th>Cpu</th>\n",
       "      <th>Ram</th>\n",
       "      <th>Memory</th>\n",
       "      <th>Gpu</th>\n",
       "      <th>OpSys</th>\n",
       "      <th>Weight</th>\n",
       "      <th>Price</th>\n",
       "    </tr>\n",
       "  </thead>\n",
       "  <tbody>\n",
       "    <tr>\n",
       "      <th>0</th>\n",
       "      <td>0.0</td>\n",
       "      <td>Apple</td>\n",
       "      <td>Ultrabook</td>\n",
       "      <td>13.3</td>\n",
       "      <td>IPS Panel Retina Display 2560x1600</td>\n",
       "      <td>Intel Core i5 2.3GHz</td>\n",
       "      <td>8GB</td>\n",
       "      <td>128GB SSD</td>\n",
       "      <td>Intel Iris Plus Graphics 640</td>\n",
       "      <td>macOS</td>\n",
       "      <td>1.37kg</td>\n",
       "      <td>71378.6832</td>\n",
       "    </tr>\n",
       "    <tr>\n",
       "      <th>1</th>\n",
       "      <td>1.0</td>\n",
       "      <td>Apple</td>\n",
       "      <td>Ultrabook</td>\n",
       "      <td>13.3</td>\n",
       "      <td>1440x900</td>\n",
       "      <td>Intel Core i5 1.8GHz</td>\n",
       "      <td>8GB</td>\n",
       "      <td>128GB Flash Storage</td>\n",
       "      <td>Intel HD Graphics 6000</td>\n",
       "      <td>macOS</td>\n",
       "      <td>1.34kg</td>\n",
       "      <td>47895.5232</td>\n",
       "    </tr>\n",
       "    <tr>\n",
       "      <th>2</th>\n",
       "      <td>2.0</td>\n",
       "      <td>HP</td>\n",
       "      <td>Notebook</td>\n",
       "      <td>15.6</td>\n",
       "      <td>Full HD 1920x1080</td>\n",
       "      <td>Intel Core i5 7200U 2.5GHz</td>\n",
       "      <td>8GB</td>\n",
       "      <td>256GB SSD</td>\n",
       "      <td>Intel HD Graphics 620</td>\n",
       "      <td>No OS</td>\n",
       "      <td>1.86kg</td>\n",
       "      <td>30636.0000</td>\n",
       "    </tr>\n",
       "    <tr>\n",
       "      <th>3</th>\n",
       "      <td>3.0</td>\n",
       "      <td>Apple</td>\n",
       "      <td>Ultrabook</td>\n",
       "      <td>15.4</td>\n",
       "      <td>IPS Panel Retina Display 2880x1800</td>\n",
       "      <td>Intel Core i7 2.7GHz</td>\n",
       "      <td>16GB</td>\n",
       "      <td>512GB SSD</td>\n",
       "      <td>AMD Radeon Pro 455</td>\n",
       "      <td>macOS</td>\n",
       "      <td>1.83kg</td>\n",
       "      <td>135195.3360</td>\n",
       "    </tr>\n",
       "    <tr>\n",
       "      <th>4</th>\n",
       "      <td>4.0</td>\n",
       "      <td>Apple</td>\n",
       "      <td>Ultrabook</td>\n",
       "      <td>13.3</td>\n",
       "      <td>IPS Panel Retina Display 2560x1600</td>\n",
       "      <td>Intel Core i5 3.1GHz</td>\n",
       "      <td>8GB</td>\n",
       "      <td>256GB SSD</td>\n",
       "      <td>Intel Iris Plus Graphics 650</td>\n",
       "      <td>macOS</td>\n",
       "      <td>1.37kg</td>\n",
       "      <td>96095.8080</td>\n",
       "    </tr>\n",
       "  </tbody>\n",
       "</table>\n",
       "</div>"
      ],
      "text/plain": [
       "   Unnamed: 0 Company   TypeName Inches                    ScreenResolution  \\\n",
       "0         0.0   Apple  Ultrabook   13.3  IPS Panel Retina Display 2560x1600   \n",
       "1         1.0   Apple  Ultrabook   13.3                            1440x900   \n",
       "2         2.0      HP   Notebook   15.6                   Full HD 1920x1080   \n",
       "3         3.0   Apple  Ultrabook   15.4  IPS Panel Retina Display 2880x1800   \n",
       "4         4.0   Apple  Ultrabook   13.3  IPS Panel Retina Display 2560x1600   \n",
       "\n",
       "                          Cpu   Ram               Memory  \\\n",
       "0        Intel Core i5 2.3GHz   8GB            128GB SSD   \n",
       "1        Intel Core i5 1.8GHz   8GB  128GB Flash Storage   \n",
       "2  Intel Core i5 7200U 2.5GHz   8GB            256GB SSD   \n",
       "3        Intel Core i7 2.7GHz  16GB            512GB SSD   \n",
       "4        Intel Core i5 3.1GHz   8GB            256GB SSD   \n",
       "\n",
       "                            Gpu  OpSys  Weight        Price  \n",
       "0  Intel Iris Plus Graphics 640  macOS  1.37kg   71378.6832  \n",
       "1        Intel HD Graphics 6000  macOS  1.34kg   47895.5232  \n",
       "2         Intel HD Graphics 620  No OS  1.86kg   30636.0000  \n",
       "3            AMD Radeon Pro 455  macOS  1.83kg  135195.3360  \n",
       "4  Intel Iris Plus Graphics 650  macOS  1.37kg   96095.8080  "
      ]
     },
     "execution_count": 3,
     "metadata": {},
     "output_type": "execute_result"
    }
   ],
   "source": [
    "MN.head()"
   ]
  },
  {
   "cell_type": "code",
   "execution_count": 4,
   "id": "313239eb-8689-40b9-9076-8a06445cb5ac",
   "metadata": {},
   "outputs": [
    {
     "data": {
      "text/html": [
       "<div>\n",
       "<style scoped>\n",
       "    .dataframe tbody tr th:only-of-type {\n",
       "        vertical-align: middle;\n",
       "    }\n",
       "\n",
       "    .dataframe tbody tr th {\n",
       "        vertical-align: top;\n",
       "    }\n",
       "\n",
       "    .dataframe thead th {\n",
       "        text-align: right;\n",
       "    }\n",
       "</style>\n",
       "<table border=\"1\" class=\"dataframe\">\n",
       "  <thead>\n",
       "    <tr style=\"text-align: right;\">\n",
       "      <th></th>\n",
       "      <th>Unnamed: 0</th>\n",
       "      <th>Company</th>\n",
       "      <th>TypeName</th>\n",
       "      <th>Inches</th>\n",
       "      <th>ScreenResolution</th>\n",
       "      <th>Cpu</th>\n",
       "      <th>Ram</th>\n",
       "      <th>Memory</th>\n",
       "      <th>Gpu</th>\n",
       "      <th>OpSys</th>\n",
       "      <th>Weight</th>\n",
       "      <th>Price</th>\n",
       "    </tr>\n",
       "  </thead>\n",
       "  <tbody>\n",
       "    <tr>\n",
       "      <th>1298</th>\n",
       "      <td>1298.0</td>\n",
       "      <td>Lenovo</td>\n",
       "      <td>2 in 1 Convertible</td>\n",
       "      <td>14</td>\n",
       "      <td>IPS Panel Full HD / Touchscreen 1920x1080</td>\n",
       "      <td>Intel Core i7 6500U 2.5GHz</td>\n",
       "      <td>4GB</td>\n",
       "      <td>128GB SSD</td>\n",
       "      <td>Intel HD Graphics 520</td>\n",
       "      <td>Windows 10</td>\n",
       "      <td>1.8kg</td>\n",
       "      <td>33992.64</td>\n",
       "    </tr>\n",
       "    <tr>\n",
       "      <th>1299</th>\n",
       "      <td>1299.0</td>\n",
       "      <td>Lenovo</td>\n",
       "      <td>2 in 1 Convertible</td>\n",
       "      <td>13.3</td>\n",
       "      <td>IPS Panel Quad HD+ / Touchscreen 3200x1800</td>\n",
       "      <td>Intel Core i7 6500U 2.5GHz</td>\n",
       "      <td>16GB</td>\n",
       "      <td>512GB SSD</td>\n",
       "      <td>Intel HD Graphics 520</td>\n",
       "      <td>Windows 10</td>\n",
       "      <td>1.3kg</td>\n",
       "      <td>79866.72</td>\n",
       "    </tr>\n",
       "    <tr>\n",
       "      <th>1300</th>\n",
       "      <td>1300.0</td>\n",
       "      <td>Lenovo</td>\n",
       "      <td>Notebook</td>\n",
       "      <td>65.4</td>\n",
       "      <td>1366x768</td>\n",
       "      <td>Intel Celeron Dual Core N3050 1.6GHz</td>\n",
       "      <td>2GB</td>\n",
       "      <td>64GB Flash Storage</td>\n",
       "      <td>Intel HD Graphics</td>\n",
       "      <td>Windows 10</td>\n",
       "      <td>1.5kg</td>\n",
       "      <td>12201.12</td>\n",
       "    </tr>\n",
       "    <tr>\n",
       "      <th>1301</th>\n",
       "      <td>1301.0</td>\n",
       "      <td>HP</td>\n",
       "      <td>Notebook</td>\n",
       "      <td>15.6</td>\n",
       "      <td>1366x768</td>\n",
       "      <td>Intel Core i7 6500U 2.5GHz</td>\n",
       "      <td>6GB</td>\n",
       "      <td>1TB HDD</td>\n",
       "      <td>AMD Radeon R5 M330</td>\n",
       "      <td>Windows 10</td>\n",
       "      <td>2.19kg</td>\n",
       "      <td>40705.92</td>\n",
       "    </tr>\n",
       "    <tr>\n",
       "      <th>1302</th>\n",
       "      <td>1302.0</td>\n",
       "      <td>Asus</td>\n",
       "      <td>Notebook</td>\n",
       "      <td>15.6</td>\n",
       "      <td>1366x768</td>\n",
       "      <td>Intel Celeron Dual Core N3050 1.6GHz</td>\n",
       "      <td>4GB</td>\n",
       "      <td>500GB HDD</td>\n",
       "      <td>Intel HD Graphics</td>\n",
       "      <td>Windows 10</td>\n",
       "      <td>2.2kg</td>\n",
       "      <td>19660.32</td>\n",
       "    </tr>\n",
       "  </tbody>\n",
       "</table>\n",
       "</div>"
      ],
      "text/plain": [
       "      Unnamed: 0 Company            TypeName Inches  \\\n",
       "1298      1298.0  Lenovo  2 in 1 Convertible     14   \n",
       "1299      1299.0  Lenovo  2 in 1 Convertible   13.3   \n",
       "1300      1300.0  Lenovo            Notebook   65.4   \n",
       "1301      1301.0      HP            Notebook   15.6   \n",
       "1302      1302.0    Asus            Notebook   15.6   \n",
       "\n",
       "                                ScreenResolution  \\\n",
       "1298   IPS Panel Full HD / Touchscreen 1920x1080   \n",
       "1299  IPS Panel Quad HD+ / Touchscreen 3200x1800   \n",
       "1300                                    1366x768   \n",
       "1301                                    1366x768   \n",
       "1302                                    1366x768   \n",
       "\n",
       "                                       Cpu   Ram              Memory  \\\n",
       "1298            Intel Core i7 6500U 2.5GHz   4GB           128GB SSD   \n",
       "1299            Intel Core i7 6500U 2.5GHz  16GB           512GB SSD   \n",
       "1300  Intel Celeron Dual Core N3050 1.6GHz   2GB  64GB Flash Storage   \n",
       "1301            Intel Core i7 6500U 2.5GHz   6GB             1TB HDD   \n",
       "1302  Intel Celeron Dual Core N3050 1.6GHz   4GB           500GB HDD   \n",
       "\n",
       "                        Gpu       OpSys  Weight     Price  \n",
       "1298  Intel HD Graphics 520  Windows 10   1.8kg  33992.64  \n",
       "1299  Intel HD Graphics 520  Windows 10   1.3kg  79866.72  \n",
       "1300      Intel HD Graphics  Windows 10   1.5kg  12201.12  \n",
       "1301     AMD Radeon R5 M330  Windows 10  2.19kg  40705.92  \n",
       "1302      Intel HD Graphics  Windows 10   2.2kg  19660.32  "
      ]
     },
     "execution_count": 4,
     "metadata": {},
     "output_type": "execute_result"
    }
   ],
   "source": [
    "MN.tail()"
   ]
  },
  {
   "cell_type": "code",
   "execution_count": 5,
   "id": "2840f364-7625-4c17-af06-37d39608269a",
   "metadata": {},
   "outputs": [
    {
     "data": {
      "text/html": [
       "<div>\n",
       "<style scoped>\n",
       "    .dataframe tbody tr th:only-of-type {\n",
       "        vertical-align: middle;\n",
       "    }\n",
       "\n",
       "    .dataframe tbody tr th {\n",
       "        vertical-align: top;\n",
       "    }\n",
       "\n",
       "    .dataframe thead th {\n",
       "        text-align: right;\n",
       "    }\n",
       "</style>\n",
       "<table border=\"1\" class=\"dataframe\">\n",
       "  <thead>\n",
       "    <tr style=\"text-align: right;\">\n",
       "      <th></th>\n",
       "      <th>Unnamed: 0</th>\n",
       "      <th>Price</th>\n",
       "    </tr>\n",
       "  </thead>\n",
       "  <tbody>\n",
       "    <tr>\n",
       "      <th>count</th>\n",
       "      <td>1273.000000</td>\n",
       "      <td>1273.000000</td>\n",
       "    </tr>\n",
       "    <tr>\n",
       "      <th>mean</th>\n",
       "      <td>652.674784</td>\n",
       "      <td>59955.814073</td>\n",
       "    </tr>\n",
       "    <tr>\n",
       "      <th>std</th>\n",
       "      <td>376.493027</td>\n",
       "      <td>37332.251005</td>\n",
       "    </tr>\n",
       "    <tr>\n",
       "      <th>min</th>\n",
       "      <td>0.000000</td>\n",
       "      <td>9270.720000</td>\n",
       "    </tr>\n",
       "    <tr>\n",
       "      <th>25%</th>\n",
       "      <td>327.000000</td>\n",
       "      <td>31914.720000</td>\n",
       "    </tr>\n",
       "    <tr>\n",
       "      <th>50%</th>\n",
       "      <td>652.000000</td>\n",
       "      <td>52161.120000</td>\n",
       "    </tr>\n",
       "    <tr>\n",
       "      <th>75%</th>\n",
       "      <td>980.000000</td>\n",
       "      <td>79333.387200</td>\n",
       "    </tr>\n",
       "    <tr>\n",
       "      <th>max</th>\n",
       "      <td>1302.000000</td>\n",
       "      <td>324954.720000</td>\n",
       "    </tr>\n",
       "  </tbody>\n",
       "</table>\n",
       "</div>"
      ],
      "text/plain": [
       "        Unnamed: 0          Price\n",
       "count  1273.000000    1273.000000\n",
       "mean    652.674784   59955.814073\n",
       "std     376.493027   37332.251005\n",
       "min       0.000000    9270.720000\n",
       "25%     327.000000   31914.720000\n",
       "50%     652.000000   52161.120000\n",
       "75%     980.000000   79333.387200\n",
       "max    1302.000000  324954.720000"
      ]
     },
     "execution_count": 5,
     "metadata": {},
     "output_type": "execute_result"
    }
   ],
   "source": [
    "MN.describe()"
   ]
  },
  {
   "cell_type": "code",
   "execution_count": 6,
   "id": "b2e4bffb-7d0e-4466-9ab9-e60f21076f3f",
   "metadata": {},
   "outputs": [
    {
     "name": "stdout",
     "output_type": "stream",
     "text": [
      "<class 'pandas.core.frame.DataFrame'>\n",
      "RangeIndex: 1303 entries, 0 to 1302\n",
      "Data columns (total 12 columns):\n",
      " #   Column            Non-Null Count  Dtype  \n",
      "---  ------            --------------  -----  \n",
      " 0   Unnamed: 0        1273 non-null   float64\n",
      " 1   Company           1273 non-null   object \n",
      " 2   TypeName          1253 non-null   object \n",
      " 3   Inches            1220 non-null   object \n",
      " 4   ScreenResolution  1273 non-null   object \n",
      " 5   Cpu               1273 non-null   object \n",
      " 6   Ram               1259 non-null   object \n",
      " 7   Memory            1273 non-null   object \n",
      " 8   Gpu               1273 non-null   object \n",
      " 9   OpSys             1273 non-null   object \n",
      " 10  Weight            1259 non-null   object \n",
      " 11  Price             1273 non-null   float64\n",
      "dtypes: float64(2), object(10)\n",
      "memory usage: 122.3+ KB\n"
     ]
    }
   ],
   "source": [
    "MN.info()"
   ]
  },
  {
   "cell_type": "markdown",
   "id": "45911785-9c0d-4732-a02b-d7b33d8ffb3a",
   "metadata": {},
   "source": [
    "DATA VALIDATION"
   ]
  },
  {
   "cell_type": "code",
   "execution_count": 7,
   "id": "8e153208-854b-4d3d-ac35-660a28f192fe",
   "metadata": {},
   "outputs": [],
   "source": [
    "MN.loc[MN['Price']<=0,'Price']=MN['Price'].mean()"
   ]
  },
  {
   "cell_type": "markdown",
   "id": "040bf5ee-e7cf-498c-bb4d-a239255b80ed",
   "metadata": {},
   "source": [
    "DATA TYPE CONVERSION"
   ]
  },
  {
   "cell_type": "code",
   "execution_count": 8,
   "id": "7d1202e4-b38f-4814-9d6f-9aa3204fd3eb",
   "metadata": {},
   "outputs": [],
   "source": [
    "MN['Inches']=pd.to_numeric(MN['Inches'],errors='coerce')"
   ]
  },
  {
   "cell_type": "code",
   "execution_count": 9,
   "id": "330c8a76-3359-42aa-b0b5-2945ef954b34",
   "metadata": {},
   "outputs": [
    {
     "name": "stdout",
     "output_type": "stream",
     "text": [
      "<class 'pandas.core.frame.DataFrame'>\n",
      "RangeIndex: 1303 entries, 0 to 1302\n",
      "Data columns (total 12 columns):\n",
      " #   Column            Non-Null Count  Dtype  \n",
      "---  ------            --------------  -----  \n",
      " 0   Unnamed: 0        1273 non-null   float64\n",
      " 1   Company           1273 non-null   object \n",
      " 2   TypeName          1253 non-null   object \n",
      " 3   Inches            1219 non-null   float64\n",
      " 4   ScreenResolution  1273 non-null   object \n",
      " 5   Cpu               1273 non-null   object \n",
      " 6   Ram               1259 non-null   object \n",
      " 7   Memory            1273 non-null   object \n",
      " 8   Gpu               1273 non-null   object \n",
      " 9   OpSys             1273 non-null   object \n",
      " 10  Weight            1259 non-null   object \n",
      " 11  Price             1273 non-null   float64\n",
      "dtypes: float64(3), object(9)\n",
      "memory usage: 122.3+ KB\n"
     ]
    }
   ],
   "source": [
    "MN.info()"
   ]
  },
  {
   "cell_type": "markdown",
   "id": "0f3420bd-8232-4fcb-896c-3354208d8d99",
   "metadata": {},
   "source": [
    "FIND THE NULL VALUES"
   ]
  },
  {
   "cell_type": "code",
   "execution_count": 10,
   "id": "da1cd078-92e8-41e1-8678-3d5fb378b280",
   "metadata": {},
   "outputs": [
    {
     "data": {
      "text/plain": [
       "Unnamed: 0          30\n",
       "Company             30\n",
       "TypeName            50\n",
       "Inches              84\n",
       "ScreenResolution    30\n",
       "Cpu                 30\n",
       "Ram                 44\n",
       "Memory              30\n",
       "Gpu                 30\n",
       "OpSys               30\n",
       "Weight              44\n",
       "Price               30\n",
       "dtype: int64"
      ]
     },
     "execution_count": 10,
     "metadata": {},
     "output_type": "execute_result"
    }
   ],
   "source": [
    "MN.isnull().sum()"
   ]
  },
  {
   "cell_type": "code",
   "execution_count": 11,
   "id": "78167779-1ec0-45a2-a468-4e1773b59631",
   "metadata": {},
   "outputs": [],
   "source": [
    "MN['Price']=MN['Price'].fillna(MN['Price'].mean())"
   ]
  },
  {
   "cell_type": "code",
   "execution_count": 12,
   "id": "b56ea81c-117e-4ef0-8873-0daef41d6105",
   "metadata": {},
   "outputs": [],
   "source": [
    "MN['Inches']=MN['Inches'].fillna(MN['Price'].mean())"
   ]
  },
  {
   "cell_type": "code",
   "execution_count": 13,
   "id": "9bae5e97-95f9-49bb-b30a-fb674b2b4d4a",
   "metadata": {},
   "outputs": [],
   "source": [
    "MN['Cpu']=MN['Cpu'].fillna(MN['Cpu'].mode()[0])"
   ]
  },
  {
   "cell_type": "code",
   "execution_count": 14,
   "id": "850c8743-fff9-48cc-943f-5cd1a3834f06",
   "metadata": {},
   "outputs": [],
   "source": [
    "MN['ScreenResolution']=MN['ScreenResolution'].fillna(MN['ScreenResolution'].bfill)"
   ]
  },
  {
   "cell_type": "code",
   "execution_count": 15,
   "id": "eb3c0f42-6f68-4519-a4cd-c55ba405eb62",
   "metadata": {},
   "outputs": [],
   "source": [
    "MN['Ram']=MN['Ram'].fillna(MN['Ram'].ffill)"
   ]
  },
  {
   "cell_type": "code",
   "execution_count": 16,
   "id": "2b133caa-f230-4381-adae-f93129ffb7c8",
   "metadata": {},
   "outputs": [],
   "source": [
    "MN['Memory']=MN['Memory'].fillna(MN['Memory'].mode()[0])"
   ]
  },
  {
   "cell_type": "code",
   "execution_count": 17,
   "id": "b3881f04-d77c-41da-9cd1-77027d9a903e",
   "metadata": {},
   "outputs": [],
   "source": [
    "MN['Gpu']=MN['Gpu'].fillna(MN['Gpu'].ffill)"
   ]
  },
  {
   "cell_type": "code",
   "execution_count": 18,
   "id": "36bfb2cf-a05e-41ba-863f-16f33696bf06",
   "metadata": {},
   "outputs": [],
   "source": [
    "MN['OpSys']=MN['OpSys'].fillna(MN['OpSys'].bfill)"
   ]
  },
  {
   "cell_type": "code",
   "execution_count": 19,
   "id": "7bb040b3-5f9d-46e9-b21a-0d6de28518a1",
   "metadata": {},
   "outputs": [],
   "source": [
    "MN['Weight']=MN['Weight'].fillna(MN['Weight'].mode()[0])"
   ]
  },
  {
   "cell_type": "code",
   "execution_count": 20,
   "id": "63a19a51-7100-460d-888a-0820c86c86de",
   "metadata": {},
   "outputs": [],
   "source": [
    "MN['Company']=MN['Company'].fillna(MN['Company'].bfill)"
   ]
  },
  {
   "cell_type": "code",
   "execution_count": 21,
   "id": "776780a6-85e3-44d1-9c9c-4cae85a74ab5",
   "metadata": {},
   "outputs": [],
   "source": [
    "MN['TypeName']=MN['TypeName'].fillna(MN['TypeName'].bfill)"
   ]
  },
  {
   "cell_type": "code",
   "execution_count": 22,
   "id": "c39eebda-6956-4dda-af96-7923b66f4b19",
   "metadata": {},
   "outputs": [],
   "source": [
    "MN.drop(MN.columns[0],axis=1,inplace=True)"
   ]
  },
  {
   "cell_type": "code",
   "execution_count": 23,
   "id": "c3ad330c-4db2-4230-9a9f-d336a9c6907c",
   "metadata": {},
   "outputs": [
    {
     "data": {
      "text/plain": [
       "Company             0\n",
       "TypeName            0\n",
       "Inches              0\n",
       "ScreenResolution    0\n",
       "Cpu                 0\n",
       "Ram                 0\n",
       "Memory              0\n",
       "Gpu                 0\n",
       "OpSys               0\n",
       "Weight              0\n",
       "Price               0\n",
       "dtype: int64"
      ]
     },
     "execution_count": 23,
     "metadata": {},
     "output_type": "execute_result"
    }
   ],
   "source": [
    "MN.isnull().sum()"
   ]
  },
  {
   "cell_type": "code",
   "execution_count": 24,
   "id": "c52ce987-5fd3-4fd1-9f85-e736cc8ed039",
   "metadata": {},
   "outputs": [
    {
     "name": "stdout",
     "output_type": "stream",
     "text": [
      "<class 'pandas.core.frame.DataFrame'>\n",
      "RangeIndex: 1303 entries, 0 to 1302\n",
      "Data columns (total 11 columns):\n",
      " #   Column            Non-Null Count  Dtype  \n",
      "---  ------            --------------  -----  \n",
      " 0   Company           1303 non-null   object \n",
      " 1   TypeName          1303 non-null   object \n",
      " 2   Inches            1303 non-null   float64\n",
      " 3   ScreenResolution  1303 non-null   object \n",
      " 4   Cpu               1303 non-null   object \n",
      " 5   Ram               1303 non-null   object \n",
      " 6   Memory            1303 non-null   object \n",
      " 7   Gpu               1303 non-null   object \n",
      " 8   OpSys             1303 non-null   object \n",
      " 9   Weight            1303 non-null   object \n",
      " 10  Price             1303 non-null   float64\n",
      "dtypes: float64(2), object(9)\n",
      "memory usage: 112.1+ KB\n"
     ]
    }
   ],
   "source": [
    "MN.info()"
   ]
  },
  {
   "cell_type": "code",
   "execution_count": 25,
   "id": "ec0adbb8-b953-49a7-9576-df0172da120c",
   "metadata": {},
   "outputs": [],
   "source": [
    "MN['Ram']=MN['Ram'].str.replace('GB','')"
   ]
  },
  {
   "cell_type": "code",
   "execution_count": 26,
   "id": "601acc6d-4d6e-44b5-9909-8b63c74d18c4",
   "metadata": {},
   "outputs": [],
   "source": [
    "MN['Ram']=pd.to_numeric(MN['Ram'],errors='coerce')"
   ]
  },
  {
   "cell_type": "code",
   "execution_count": 27,
   "id": "dd1d8fee-d584-404c-a4dd-749f4f2616d6",
   "metadata": {},
   "outputs": [
    {
     "data": {
      "text/plain": [
       "0     8.0\n",
       "1     8.0\n",
       "2     8.0\n",
       "3    16.0\n",
       "4     8.0\n",
       "Name: Ram, dtype: float64"
      ]
     },
     "execution_count": 27,
     "metadata": {},
     "output_type": "execute_result"
    }
   ],
   "source": [
    "MN['Ram'].head()"
   ]
  },
  {
   "cell_type": "code",
   "execution_count": 28,
   "id": "09364e5f-ad2b-474b-afe6-65ea950fbdae",
   "metadata": {},
   "outputs": [],
   "source": [
    "MN['Weight']=MN['Weight'].str.replace('kg','')"
   ]
  },
  {
   "cell_type": "code",
   "execution_count": 29,
   "id": "271f9134-ed2a-4a55-906f-7c5f2146d117",
   "metadata": {},
   "outputs": [],
   "source": [
    "MN['Weight']=pd.to_numeric(MN['Weight'],errors='coerce')"
   ]
  },
  {
   "cell_type": "code",
   "execution_count": 30,
   "id": "7fa667c8-171e-4949-b0e1-fdb2a74857fe",
   "metadata": {},
   "outputs": [
    {
     "data": {
      "text/plain": [
       "0    1.37\n",
       "1    1.34\n",
       "2    1.86\n",
       "3    1.83\n",
       "4    1.37\n",
       "Name: Weight, dtype: float64"
      ]
     },
     "execution_count": 30,
     "metadata": {},
     "output_type": "execute_result"
    }
   ],
   "source": [
    "MN['Weight'].head()"
   ]
  },
  {
   "cell_type": "code",
   "execution_count": 31,
   "id": "b6a34cc4-ba2a-4d47-9a88-bd85a06e42c3",
   "metadata": {},
   "outputs": [],
   "source": [
    "# Step 1: Split the CPU string\n",
    "MN['Cpu_Brand'] = MN['Cpu'].str.split().str[0]                     # 'Intel'\n",
    "MN['Cpu_Series'] = MN['Cpu'].str.extract(r'(Intel\\s\\w+\\s\\w+)')     # 'Intel Core i5'\n",
    "MN['Cpu_Speed_GHz'] = MN['Cpu'].str.extract(r'([\\d\\.]+)GHz').astype(float)  # 2.3, 1.8, etc."
   ]
  },
  {
   "cell_type": "code",
   "execution_count": 32,
   "id": "576fd937-6230-4e14-ab60-89dc5e4b49fd",
   "metadata": {},
   "outputs": [
    {
     "data": {
      "text/plain": [
       "0          Intel Core i5 2.3GHz\n",
       "1          Intel Core i5 1.8GHz\n",
       "2    Intel Core i5 7200U 2.5GHz\n",
       "3          Intel Core i7 2.7GHz\n",
       "4          Intel Core i5 3.1GHz\n",
       "Name: Cpu, dtype: object"
      ]
     },
     "execution_count": 32,
     "metadata": {},
     "output_type": "execute_result"
    }
   ],
   "source": [
    "MN['Cpu'].head()"
   ]
  },
  {
   "cell_type": "code",
   "execution_count": 33,
   "id": "9a73cb12-f0ce-4eda-af1e-5d2a26959920",
   "metadata": {},
   "outputs": [
    {
     "data": {
      "text/html": [
       "<div>\n",
       "<style scoped>\n",
       "    .dataframe tbody tr th:only-of-type {\n",
       "        vertical-align: middle;\n",
       "    }\n",
       "\n",
       "    .dataframe tbody tr th {\n",
       "        vertical-align: top;\n",
       "    }\n",
       "\n",
       "    .dataframe thead th {\n",
       "        text-align: right;\n",
       "    }\n",
       "</style>\n",
       "<table border=\"1\" class=\"dataframe\">\n",
       "  <thead>\n",
       "    <tr style=\"text-align: right;\">\n",
       "      <th></th>\n",
       "      <th>Inches</th>\n",
       "      <th>Ram</th>\n",
       "      <th>Weight</th>\n",
       "      <th>Price</th>\n",
       "      <th>Cpu_Speed_GHz</th>\n",
       "    </tr>\n",
       "  </thead>\n",
       "  <tbody>\n",
       "    <tr>\n",
       "      <th>count</th>\n",
       "      <td>1303.000000</td>\n",
       "      <td>1259.000000</td>\n",
       "      <td>1301.000000</td>\n",
       "      <td>1303.000000</td>\n",
       "      <td>1303.000000</td>\n",
       "    </tr>\n",
       "    <tr>\n",
       "      <th>mean</th>\n",
       "      <td>3879.566909</td>\n",
       "      <td>8.482129</td>\n",
       "      <td>2.149962</td>\n",
       "      <td>59955.814073</td>\n",
       "      <td>2.303546</td>\n",
       "    </tr>\n",
       "    <tr>\n",
       "      <th>std</th>\n",
       "      <td>14725.955076</td>\n",
       "      <td>5.586745</td>\n",
       "      <td>1.372360</td>\n",
       "      <td>36899.649480</td>\n",
       "      <td>0.502149</td>\n",
       "    </tr>\n",
       "    <tr>\n",
       "      <th>min</th>\n",
       "      <td>2.100000</td>\n",
       "      <td>1.000000</td>\n",
       "      <td>0.000080</td>\n",
       "      <td>9270.720000</td>\n",
       "      <td>0.900000</td>\n",
       "    </tr>\n",
       "    <tr>\n",
       "      <th>25%</th>\n",
       "      <td>14.000000</td>\n",
       "      <td>4.000000</td>\n",
       "      <td>1.540000</td>\n",
       "      <td>32650.250400</td>\n",
       "      <td>2.000000</td>\n",
       "    </tr>\n",
       "    <tr>\n",
       "      <th>50%</th>\n",
       "      <td>15.600000</td>\n",
       "      <td>8.000000</td>\n",
       "      <td>2.090000</td>\n",
       "      <td>52747.200000</td>\n",
       "      <td>2.500000</td>\n",
       "    </tr>\n",
       "    <tr>\n",
       "      <th>75%</th>\n",
       "      <td>15.600000</td>\n",
       "      <td>8.000000</td>\n",
       "      <td>2.310000</td>\n",
       "      <td>78561.360000</td>\n",
       "      <td>2.700000</td>\n",
       "    </tr>\n",
       "    <tr>\n",
       "      <th>max</th>\n",
       "      <td>59955.814073</td>\n",
       "      <td>64.000000</td>\n",
       "      <td>29.000000</td>\n",
       "      <td>324954.720000</td>\n",
       "      <td>3.600000</td>\n",
       "    </tr>\n",
       "  </tbody>\n",
       "</table>\n",
       "</div>"
      ],
      "text/plain": [
       "             Inches          Ram       Weight          Price  Cpu_Speed_GHz\n",
       "count   1303.000000  1259.000000  1301.000000    1303.000000    1303.000000\n",
       "mean    3879.566909     8.482129     2.149962   59955.814073       2.303546\n",
       "std    14725.955076     5.586745     1.372360   36899.649480       0.502149\n",
       "min        2.100000     1.000000     0.000080    9270.720000       0.900000\n",
       "25%       14.000000     4.000000     1.540000   32650.250400       2.000000\n",
       "50%       15.600000     8.000000     2.090000   52747.200000       2.500000\n",
       "75%       15.600000     8.000000     2.310000   78561.360000       2.700000\n",
       "max    59955.814073    64.000000    29.000000  324954.720000       3.600000"
      ]
     },
     "execution_count": 33,
     "metadata": {},
     "output_type": "execute_result"
    }
   ],
   "source": [
    "MN['Ram']=pd.to_numeric(MN['Ram'],errors='coerce')\n",
    "MN.describe()"
   ]
  },
  {
   "cell_type": "markdown",
   "id": "f295d04f-3745-4e6d-baa2-de1beb873b22",
   "metadata": {},
   "source": [
    "Finding outliers"
   ]
  },
  {
   "cell_type": "code",
   "execution_count": null,
   "id": "abfaa91c-c05b-416d-b178-bd866f5bc028",
   "metadata": {},
   "outputs": [],
   "source": [
    "import matplotlib.pyplot as plt\n",
    "import seaborn as sns"
   ]
  },
  {
   "cell_type": "code",
   "execution_count": null,
   "id": "9cb543ab-b071-48bf-9702-250e88a23890",
   "metadata": {},
   "outputs": [],
   "source": [
    "plt.boxplot(MN[['Inches','Price']])\n",
    "plt.xticks([1,2],['Inches','Price'])\n",
    "plt.show()"
   ]
  },
  {
   "cell_type": "code",
   "execution_count": null,
   "id": "53107c3b-d2c5-403e-8738-3f1004c9eefb",
   "metadata": {},
   "outputs": [],
   "source": [
    " q3 = MN['Inches'].quantile(0.75)\n",
    " q1 = MN['Inches'].quantile(0.25)\n",
    "iqr = q3 - q1\n",
    "lower_bound=q1-1.5*iqr\n",
    "upper_bound=q3+1.5*iqr\n",
    "\n",
    "med_val=MN['Inches'].median()\n",
    "\n",
    "MN.loc[(MN['Inches']<lower_bound) | (MN['Inches']>upper_bound),'Inches']=round(med_val,0)\n"
   ]
  },
  {
   "cell_type": "code",
   "execution_count": null,
   "id": "a9e657a4-ef73-4b9e-b141-b80883550732",
   "metadata": {},
   "outputs": [],
   "source": [
    "plt.boxplot(MN[['Inches','Price']])\n",
    "plt.xticks([1,2],['Inches','Price'])\n",
    "plt.show()"
   ]
  },
  {
   "cell_type": "code",
   "execution_count": null,
   "id": "828ab13c-5ed0-49a4-934a-dc44fb0fc2e0",
   "metadata": {},
   "outputs": [],
   "source": [
    "for i in range(10):\n",
    "    q3 = MN['Price'].quantile(0.75)\n",
    "    q1 = MN['Price'].quantile(0.25)\n",
    "    iqr = q3 - q1\n",
    "    lower_bound=q1-1.5*iqr\n",
    "    upper_bound=q3+1.5*iqr\n",
    "    \n",
    "    med_val=MN['Price'].median()\n",
    "    \n",
    "    MN.loc[(MN['Price']<lower_bound) | (MN['Price']>upper_bound),'Price']=round(med_val,0)\n"
   ]
  },
  {
   "cell_type": "code",
   "execution_count": null,
   "id": "cc902133-fa97-4ccd-bd24-9d20f83fb2a8",
   "metadata": {},
   "outputs": [],
   "source": [
    "plt.boxplot(MN[['Inches','Price']])\n",
    "plt.xticks([1,2],['Inches','Price'])\n",
    "plt.show()"
   ]
  },
  {
   "cell_type": "markdown",
   "id": "00298ccf-954c-489e-adb4-41d8284c6048",
   "metadata": {},
   "source": [
    "2. Exploratory Data Analysis (EDA): "
   ]
  },
  {
   "cell_type": "markdown",
   "id": "c0ad4673-c3a4-4087-a412-b4e78338b289",
   "metadata": {},
   "source": [
    "=> Univariate analysis"
   ]
  },
  {
   "cell_type": "code",
   "execution_count": null,
   "id": "b50d1f5d-df9b-4fb2-bd12-fcdef82fa073",
   "metadata": {},
   "outputs": [],
   "source": [
    "print(\"Price Summary:\")\n",
    "print(MN['Price'].describe,())\n",
    "MN['Price'].hist()"
   ]
  },
  {
   "cell_type": "code",
   "execution_count": null,
   "id": "afffba3f-0dc0-40db-8b21-420733d35b0a",
   "metadata": {},
   "outputs": [],
   "source": [
    "# Basic data analysis libraries\n",
    "import pandas as pd\n",
    "import numpy as np\n",
    "\n",
    "# Visualization libraries\n",
    "import matplotlib.pyplot as plt\n",
    "import seaborn as sns\n",
    "\n",
    "# Settings for aesthetics\n",
    "sns.set(style=\"whitegrid\")\n",
    "plt.rcParams[\"figure.figsize\"] = (10, 6)\n",
    "\n",
    "import warnings\n",
    "warnings.filterwarnings(\"ignore\")\n",
    "\n",
    "MN['TypeName'] = MN['TypeName'].str.strip()        # Remove leading/trailing spaces\n",
    "MN['TypeName'] = MN['TypeName'].str.replace('\\s+', ' ', regex=True)  # Remove extra spaces\n",
    "MN['Company'] = MN['Company'].str.strip()\n",
    "\n",
    "import plotly.express as px"
   ]
  },
  {
   "cell_type": "code",
   "execution_count": null,
   "id": "fb6d3138-dee6-4875-9733-48f0b00fdf01",
   "metadata": {},
   "outputs": [],
   "source": [
    "# Histogram\n",
    "sns.histplot(MN['Price'], kde=True,color='black')\n",
    "plt.title(\"Laptop Price Distribution\")"
   ]
  },
  {
   "cell_type": "code",
   "execution_count": null,
   "id": "7fbcf53e-aa0e-409e-8639-34036fe59b3b",
   "metadata": {},
   "outputs": [],
   "source": [
    "sns.boxplot(x='Ram', y='Price', data=MN, palette='cividis')\n",
    "plt.title('Laptop Price Distribution by RAM Size', fontsize=14)\n",
    "plt.xlabel('RAM (GB)')\n",
    "plt.ylabel('Price')\n",
    "plt.grid(True)\n",
    "plt.show()\n"
   ]
  },
  {
   "cell_type": "code",
   "execution_count": null,
   "id": "425b95ea-f67b-40af-a067-f98314c5845a",
   "metadata": {},
   "outputs": [],
   "source": [
    "# Bar Chart\n",
    "MN['Company'].value_counts().plot(kind='bar',color='blue')\n",
    "plt.title(\"Laptop Brand Frequency\")"
   ]
  },
  {
   "cell_type": "markdown",
   "id": "deac862f-bfa4-4147-a90a-3bd0565a8189",
   "metadata": {},
   "source": [
    "=>Bivariate Analysis"
   ]
  },
  {
   "cell_type": "code",
   "execution_count": null,
   "id": "279e66dd-f7fa-47d4-9e0a-1ba9384ea318",
   "metadata": {},
   "outputs": [],
   "source": [
    "sns.scatterplot(x='Ram', y='Price', data=MN, color='lime', edgecolor='black')\n",
    "plt.title('Price vs. RAM')\n",
    "plt.xlabel('RAM (GB)')\n",
    "plt.ylabel('Price')\n",
    "plt.grid(True)\n",
    "plt.show()"
   ]
  },
  {
   "cell_type": "code",
   "execution_count": null,
   "id": "117f76e1-21e3-4655-a366-e7bdd0059e3c",
   "metadata": {},
   "outputs": [],
   "source": [
    "plt.figure(figsize=(12, 6))\n",
    "sns.boxplot(x='Cpu_Brand', y='Price', data=MN,color='CYAN')\n",
    "plt.title('Price vs. CPU Brand')\n",
    "plt.xticks(rotation=0)\n",
    "plt.show()"
   ]
  },
  {
   "cell_type": "code",
   "execution_count": null,
   "id": "82c098fb-fdc5-4b91-b667-5add63ed344f",
   "metadata": {},
   "outputs": [],
   "source": [
    "MN['Gpu_Brand'] = MN['Gpu'].str.split().str[0]\n",
    "sns.violinplot(x='Gpu_Brand', y='Price', data=MN ,palette='Set1')\n",
    "plt.title(\"Price Distribution by GPU Brand\")\n",
    "plt.xticks(rotation=0)\n",
    "plt.tight_layout()\n",
    "plt.show()"
   ]
  },
  {
   "cell_type": "code",
   "execution_count": null,
   "id": "5dec9b5f-d223-40ae-b767-53f00f622368",
   "metadata": {},
   "outputs": [],
   "source": [
    "sns.heatmap(corr, annot=True, fmt='.2f', cmap='RdPu')\n",
    "plt.title('Average Weight by RAM Size')\n",
    "plt.xlabel('Weight')\n",
    "plt.ylabel('RAM (GB)')\n",
    "plt.tight_layout()\n",
    "plt.show()"
   ]
  },
  {
   "cell_type": "markdown",
   "id": "be6d8e74-a527-4d8e-b0ea-e9a70f660ce7",
   "metadata": {},
   "source": [
    "=>Multivariate Analysis"
   ]
  },
  {
   "cell_type": "code",
   "execution_count": null,
   "id": "43862d31-c45d-4768-b9a4-a4a24504448a",
   "metadata": {},
   "outputs": [],
   "source": [
    "corr_columns = ['Price','Inches','Ram','Weight']\n",
    "corr = MN[corr_columns].corr()\n",
    "plt.figure(figsize=(8, 6))\n",
    "sns.heatmap(corr, annot=True, cmap='GnBu')\n",
    "plt.title('Correlation Heatmap')\n",
    "plt.show()\n"
   ]
  },
  {
   "cell_type": "code",
   "execution_count": null,
   "id": "8cc2f917-94d5-4643-9806-938412617054",
   "metadata": {},
   "outputs": [],
   "source": [
    "# Pairplot for numeric columns\n",
    "sns.pairplot(MN[corr_columns])\n",
    "plt.show()"
   ]
  },
  {
   "cell_type": "code",
   "execution_count": null,
   "id": "c5f61821-f405-4649-8a66-2893d2667481",
   "metadata": {},
   "outputs": [],
   "source": [
    "g = sns.FacetGrid(MN, col='TypeName', col_wrap=3, height=4)\n",
    "g.map_dataframe(sns.scatterplot, x='Ram', y='Price', hue='Company')\n",
    "g.add_legend()\n",
    "plt.subplots_adjust(top=0.9)\n",
    "g.fig.suptitle('Price vs RAM across Laptop Types')\n",
    "plt.show()"
   ]
  },
  {
   "cell_type": "code",
   "execution_count": null,
   "id": "7d21d080-7d2c-45af-9027-33f0750cb77e",
   "metadata": {},
   "outputs": [],
   "source": [
    "fig = px.scatter_3d(MN,x='Ram',y='Inches',z='Price',color='TypeName',hover_data=['Company'],title='3D Scatter Plot: RAM, Inches, and Price')\n",
    "fig.show()"
   ]
  },
  {
   "cell_type": "markdown",
   "id": "d2e01f06-8688-423d-9428-96e43cf01dc4",
   "metadata": {},
   "source": [
    "3. Visualization"
   ]
  },
  {
   "cell_type": "code",
   "execution_count": null,
   "id": "9167a2a5-fcd3-4367-b740-9903b2f6c567",
   "metadata": {},
   "outputs": [],
   "source": [
    "sns.histplot(data=MN, x='Price', kde=True,color='crimson')\n"
   ]
  },
  {
   "cell_type": "code",
   "execution_count": null,
   "id": "89b799db-5c65-4a23-ae9c-af0fa5258a3a",
   "metadata": {},
   "outputs": [],
   "source": [
    "sns.scatterplot(data=MN, x='Ram', y='Price',hue='Company')"
   ]
  },
  {
   "cell_type": "code",
   "execution_count": null,
   "id": "b5afd7d4-6f0d-4841-bde2-ad800284fa4c",
   "metadata": {},
   "outputs": [],
   "source": [
    "plt.figure(figsize=(16, 6))\n",
    "sns.boxplot(data=MN, x='Company', y='Price',palette='magma')"
   ]
  },
  {
   "cell_type": "code",
   "execution_count": null,
   "id": "f58d5e30-55b6-4d39-b58b-591936f24a86",
   "metadata": {},
   "outputs": [],
   "source": [
    "sns.countplot(data=MN, x='TypeName', color='gold')\n"
   ]
  },
  {
   "cell_type": "code",
   "execution_count": null,
   "id": "296fbbf0-7085-4d74-aefd-410905d4bc22",
   "metadata": {},
   "outputs": [],
   "source": [
    "sns.heatmap(MN.corr(numeric_only=True), annot=True, cmap='OrRd')\n"
   ]
  },
  {
   "cell_type": "code",
   "execution_count": null,
   "id": "49894518-ee35-4c95-983c-4fa133c764f3",
   "metadata": {},
   "outputs": [],
   "source": [
    "sns.pairplot(MN[['Price', 'Ram','Weight']])"
   ]
  },
  {
   "cell_type": "markdown",
   "id": "81cf3f75-e874-475d-9e02-984bd2ac11ec",
   "metadata": {},
   "source": [
    "=> Insightful visualizations"
   ]
  },
  {
   "cell_type": "markdown",
   "id": "2c93cd7a-a334-49b9-8138-38b14a94a967",
   "metadata": {},
   "source": [
    " 1. Price Distribution by Company"
   ]
  },
  {
   "cell_type": "code",
   "execution_count": null,
   "id": "0603c17f-f945-4b24-a614-73ce65a7b357",
   "metadata": {},
   "outputs": [],
   "source": [
    "sns.histplot(MN['Price'], bins=30, kde=True,color='indigo')"
   ]
  },
  {
   "cell_type": "code",
   "execution_count": null,
   "id": "90f6341f-7a5c-4f6b-be41-3787a70f7cf3",
   "metadata": {},
   "outputs": [],
   "source": [
    "plt.figure(figsize=(16, 6))\n",
    "sns.boxplot(x='Company', y='Price', data=MN,palette='BuPu')\n"
   ]
  },
  {
   "cell_type": "code",
   "execution_count": null,
   "id": "4a6d1427-fd93-4c2d-a80c-79c56c8765b7",
   "metadata": {},
   "outputs": [],
   "source": [
    "sns.countplot(x='TypeName', data=MN,color='black')\n"
   ]
  },
  {
   "cell_type": "code",
   "execution_count": null,
   "id": "e2443c65-1b3b-457f-a0f1-5cc57324cb98",
   "metadata": {},
   "outputs": [],
   "source": [
    "MN['Ram'].value_counts().plot.pie(autopct='%1.1f%%', colors=sns.color_palette('Set1'))\n"
   ]
  },
  {
   "cell_type": "code",
   "execution_count": null,
   "id": "d0f812f6-d7d9-4853-ae10-69619b3fa5d0",
   "metadata": {},
   "outputs": [],
   "source": [
    "sns.scatterplot(x='Ram', y='Price', data=MN,color='fuchsia', edgecolor='black',hue='Company')\n"
   ]
  },
  {
   "cell_type": "code",
   "execution_count": null,
   "id": "8a1f3055-27fa-4370-8362-6a063ebc3e38",
   "metadata": {},
   "outputs": [],
   "source": [
    "sns.heatmap(corr, annot=True, cmap='YlGn')\n",
    "plt.title(\"Correlation Between Numerical Features\")\n",
    "plt.show()\n"
   ]
  },
  {
   "cell_type": "code",
   "execution_count": null,
   "id": "ce7a0d2f-9c51-4258-978e-6fefb80bb68e",
   "metadata": {},
   "outputs": [],
   "source": [
    "sns.pairplot(MN[['Price', 'Ram', 'Inches', 'Weight']])"
   ]
  },
  {
   "cell_type": "code",
   "execution_count": null,
   "id": "d75d937f-dceb-4317-9eb0-fbfb6b0c6f29",
   "metadata": {},
   "outputs": [],
   "source": [
    "sns.violinplot(x='Gpu_Brand', y='Price', data=MN,palette='Set1')\n"
   ]
  },
  {
   "cell_type": "code",
   "execution_count": null,
   "id": "7925104e-2cf4-487f-8081-58fdef3fd4bb",
   "metadata": {},
   "outputs": [],
   "source": [
    "fig = px.scatter_3d(MN,x='Ram',y='Inches',z='Price',color='TypeName',hover_data=['Company'],title='3D Scatter Plot: RAM, Inches, and Price')\n",
    "fig.show()"
   ]
  },
  {
   "cell_type": "code",
   "execution_count": null,
   "id": "1aa0cbe5-5700-4fc3-b184-4dd8d108a161",
   "metadata": {},
   "outputs": [],
   "source": [
    "sns.stripplot(x='Ram', y='Weight', data=MN, jitter=True,palette='Set1')\n"
   ]
  },
  {
   "cell_type": "code",
   "execution_count": null,
   "id": "ef7c7982-0bae-4582-99d4-f6cbb90b37d3",
   "metadata": {},
   "outputs": [],
   "source": []
  },
  {
   "cell_type": "code",
   "execution_count": null,
   "id": "939a249d-d565-421d-8dd6-4120653727fa",
   "metadata": {},
   "outputs": [],
   "source": [
    "company_counts = MN['Company'].value_counts().head(5) \n",
    "plt.figure(figsize=(8, 8))\n",
    "company_counts.plot(kind='pie', autopct='%1.1f%%', colors=sns.color_palette('Set1'))\n",
    "plt.title('Market Share by Company (Top 10)', fontsize=14)\n",
    "plt.ylabel('')\n",
    "plt.show()"
   ]
  },
  {
   "cell_type": "markdown",
   "id": "e392939d-5992-492e-8072-559f2cbcd92c",
   "metadata": {},
   "source": [
    "ANOVA ONE WAY TESTING:"
   ]
  },
  {
   "cell_type": "code",
   "execution_count": null,
   "id": "2e8a4680-6ed5-4e5b-8162-af432e8f41ee",
   "metadata": {},
   "outputs": [],
   "source": [
    "from scipy.stats import f_oneway\n",
    "\n",
    "# Drop rows with missing values in 'Company' or 'Price'\n",
    "MN = MN.dropna(subset=['Company', 'Price'])\n",
    "\n",
    "# Group Price values by each Company into a list\n",
    "groups = MN.groupby('Company')['Price'].apply(list)\n",
    "\n",
    "# Perform One-Way ANOVA test\n",
    "stat, p_value = f_oneway(*groups)\n",
    "\n",
    "# Print the result\n",
    "print(\"ANOVA Results:\")\n",
    "print(f\"F-statistic: {stat:.2f}\")\n",
    "print(f\"P-value: {p_value:.4f}\")\n",
    "\n",
    "# Interpret the result\n",
    "alpha = 0.05\n",
    "if p_value < alpha:\n",
    "    print(\"Reject the null hypothesis: There is a significant difference in average prices between companies.\")\n",
    "else:\n",
    "    print(\"Fail to reject the null hypothesis: No significant difference in average prices between companies.\")\n"
   ]
  }
 ],
 "metadata": {
  "kernelspec": {
   "display_name": "Python 3 (ipykernel)",
   "language": "python",
   "name": "python3"
  },
  "language_info": {
   "codemirror_mode": {
    "name": "ipython",
    "version": 3
   },
   "file_extension": ".py",
   "mimetype": "text/x-python",
   "name": "python",
   "nbconvert_exporter": "python",
   "pygments_lexer": "ipython3",
   "version": "3.12.7"
  }
 },
 "nbformat": 4,
 "nbformat_minor": 5
}
